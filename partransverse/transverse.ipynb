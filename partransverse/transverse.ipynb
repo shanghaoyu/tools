{
 "cells": [
  {
   "attachments": {},
   "cell_type": "markdown",
   "metadata": {},
   "source": [
    "ptolsj"
   ]
  },
  {
   "cell_type": "code",
   "execution_count": null,
   "metadata": {},
   "outputs": [],
   "source": [
    "import pandas as pd\n",
    "import numpy as np\n",
    "\n",
    "# 从 Excel 文件中读取矩阵\n",
    "def read_matrix_from_excel(filename, sheet_name):\n",
    "    df = pd.read_excel(filename, sheet_name=sheet_name, header=None)\n",
    "    return df.values\n",
    "\n",
    "# 读取矩阵1和矩阵2\n",
    "matrix1 = read_matrix_from_excel('input_vector.xlsx', 'Sheet1')\n",
    "matrix2 = read_matrix_from_excel('transverse_matrix.xlsx', 'Sheet1')\n",
    "matrix3 = read_matrix_from_excel('reorder.xlsx', 'Sheet1')\n",
    "# 求矩阵1的逆\n",
    "#matrix1_inv = np.linalg.inv(matrix1)\n",
    "\n",
    "# 将矩阵1的逆与矩阵2相乘\n",
    "result_matrix = np.matmul(matrix2, matrix1)\n",
    "result_matrix=  np.matmul(matrix3, result_matrix)\n",
    "# 打印结果矩阵\n",
    "print(result_matrix)\n",
    "\n",
    "# 保存结果矩阵到新的 Excel 文件\n",
    "result_df = pd.DataFrame(result_matrix)\n",
    "result_df.to_excel('result_vector.xlsx', sheet_name='Sheet1', index=False, header=False)\n"
   ]
  },
  {
   "attachments": {},
   "cell_type": "markdown",
   "metadata": {},
   "source": [
    "lsj to p"
   ]
  },
  {
   "cell_type": "code",
   "execution_count": 9,
   "metadata": {},
   "outputs": [
    {
     "name": "stdout",
     "output_type": "stream",
     "text": [
      "[[-8.06796195e-03]\n",
      " [ 9.75221914e-04]\n",
      " [ 6.64727033e-02]\n",
      " [ 9.44405538e-03]\n",
      " [-5.44356626e-03]\n",
      " [-6.63304871e-02]\n",
      " [-6.68190145e-02]\n",
      " [-5.79795583e-03]\n",
      " [-1.61158071e-01]\n",
      " [-3.79559460e-01]\n",
      " [ 1.21871724e+00]\n",
      " [-4.48490175e-01]\n",
      " [ 4.83714347e-01]\n",
      " [ 2.54219865e-02]\n",
      " [-4.96172269e-01]\n",
      " [ 6.15690748e-02]\n",
      " [ 1.86662291e-01]\n",
      " [-1.38767245e-01]\n",
      " [ 7.48005354e-01]\n",
      " [ 1.76904275e-02]\n",
      " [-1.97756927e-01]\n",
      " [-2.09490984e-01]\n",
      " [-3.24169673e-02]\n",
      " [-4.79295018e-01]]\n"
     ]
    }
   ],
   "source": [
    "import pandas as pd\n",
    "import numpy as np\n",
    "\n",
    "# 从 Excel 文件中读取矩阵\n",
    "def read_matrix_from_excel(filename, sheet_name):\n",
    "    df = pd.read_excel(filename, sheet_name=sheet_name, header=None)\n",
    "    return df.values\n",
    "\n",
    "# 读取矩阵1和矩阵2\n",
    "vectorin = read_matrix_from_excel('input_vector.xlsx', 'Sheet1')\n",
    "matrix2 = read_matrix_from_excel('transverse_matrix.xlsx', 'Sheet1')\n",
    "matrix3 = read_matrix_from_excel('reorder.xlsx', 'Sheet1')\n",
    "# 求矩阵1的逆\n",
    "#matrix1_inv = np.linalg.inv(matrix1)\n",
    "\n",
    "# 将矩阵1的逆与矩阵2相乘\n",
    "transverse_matrix=np.matmul(matrix3, matrix2)\n",
    "transverse_matrix_inv = np.linalg.inv(transverse_matrix)\n",
    "vectorout = np.matmul(transverse_matrix_inv, vectorin)\n",
    "# 打印结果矩阵\n",
    "print(vectorout)\n",
    "\n",
    "# 保存结果矩阵到新的 Excel 文件\n",
    "result_df = pd.DataFrame(vectorout)\n",
    "result_df.to_excel('result_vector.xlsx', sheet_name='Sheet1', index=False, header=False)"
   ]
  }
 ],
 "metadata": {
  "kernelspec": {
   "display_name": "Python 3",
   "language": "python",
   "name": "python3"
  },
  "language_info": {
   "codemirror_mode": {
    "name": "ipython",
    "version": 3
   },
   "file_extension": ".py",
   "mimetype": "text/x-python",
   "name": "python",
   "nbconvert_exporter": "python",
   "pygments_lexer": "ipython3",
   "version": "3.10.11"
  },
  "orig_nbformat": 4
 },
 "nbformat": 4,
 "nbformat_minor": 2
}
